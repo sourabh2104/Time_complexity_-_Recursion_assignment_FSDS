{
 "cells": [
  {
   "cell_type": "code",
   "execution_count": 1,
   "id": "4eae174d-0322-4a51-a82d-d0d01f3fdc7d",
   "metadata": {},
   "outputs": [],
   "source": [
    "# Assignment Time Complexity and Recursion!!"
   ]
  },
  {
   "cell_type": "code",
   "execution_count": 5,
   "id": "6d474710-b423-4c67-8e8c-6905c7934924",
   "metadata": {},
   "outputs": [
    {
     "name": "stdin",
     "output_type": "stream",
     "text": [
      "Enter the number of elements in the array:  5\n"
     ]
    },
    {
     "name": "stdout",
     "output_type": "stream",
     "text": [
      "Worst case time complexity of quicksort with 5 elements is O(n^2): 17\n",
      "Average case time complexity of quicksort with 5 elements is O(n log n): 8.75\n"
     ]
    }
   ],
   "source": [
    "# Problem 1.\n",
    "\n",
    "\"\"\"def quicksort(arr):\n",
    "   if len(arr) <= 1:\n",
    "   return arr\n",
    "   pivot = arr[len(arr) // 2]\n",
    "   left = [x for x in arr if x < pivot]\n",
    "   middle = [x for x in arr if x == pivot]\n",
    "   right = [x for x in arr if x > pivot]\n",
    "   return quicksort(left) + middle + quicksort(right)\"\"\"\n",
    "\n",
    "\n",
    "\n",
    "\n",
    "def quicksort_time_complexity(n):\n",
    "    if n <= 1:\n",
    "        return 1\n",
    "    else:\n",
    "        return n + quicksort_time_complexity(n // 2) + quicksort_time_complexity(n - n // 2)\n",
    "\n",
    "def main():\n",
    "    n = int(input(\"Enter the number of elements in the array: \"))\n",
    "    worst_case_time_complexity = quicksort_time_complexity(n)\n",
    "    print(\"Worst case time complexity of quicksort with\", n, \"elements is O(n^2):\", worst_case_time_complexity)\n",
    "    average_case_time_complexity = n * (1 + sum(1 / (2**i) for i in range(1, n.bit_length())))\n",
    "    print(\"Average case time complexity of quicksort with\", n, \"elements is O(n log n):\", average_case_time_complexity)\n",
    "\n",
    "if __name__ == \"__main__\":\n",
    "    main()\n"
   ]
  },
  {
   "cell_type": "markdown",
   "id": "cab1c005-61e3-4472-a79e-4662b6393a40",
   "metadata": {},
   "source": [
    "Explanation:-\n",
    "\n",
    "\n",
    "The time complexity of the provided quicksort implementation can be analyzed as follows:\n",
    "\n",
    "Partitioning the array around the pivot takes O(n) time, where n is the number of elements in the array.\n",
    "The quicksort function recursively calls itself on the left and right partitions, excluding the pivot element, which is already in its correct position.\n",
    "Let's denote:\n",
    "\n",
    "n as the number of elements in the input array.\n",
    "k as the number of unique elements in the array.\n",
    "In the worst case, each recursive call might only reduce the size of the array by one element (if the pivot is always the minimum or maximum element). Thus, the maximum depth of the recursion tree would be n. At each level of recursion, the partitioning step takes O(n) time, resulting in a time complexity of O(n^2) in the worst case.\n",
    "\n",
    "However, in the average case, if the pivot consistently divides the array into two roughly equal halves, each recursive call will operate on roughly half of the elements of the previous call. In this case, the time complexity of the algorithm can be expressed using the master theorem, resulting in an average time complexity of O(n log n).\n",
    "\n",
    "So, the time complexity of the provided code block is O(n log n) on average and O(n^2) in the worst case.\n",
    "\n",
    "\n",
    "\n"
   ]
  },
  {
   "cell_type": "code",
   "execution_count": 6,
   "id": "64c31569-de5d-4732-bf96-829f9d16b3cf",
   "metadata": {},
   "outputs": [
    {
     "name": "stdin",
     "output_type": "stream",
     "text": [
      "Enter the number of rows in the matrix:  34\n",
      "Enter the number of columns in the matrix:  54\n"
     ]
    },
    {
     "name": "stdout",
     "output_type": "stream",
     "text": [
      "Time complexity of nested_loop_example with a 34 x 54 matrix is O(rows * cols): 1836\n"
     ]
    }
   ],
   "source": [
    "# Problem 2.\n",
    "\n",
    "\"\"\" def nested_loop_example(matrix):\n",
    "    rows, cols = len(matrix), len(matrix[0])\n",
    "    total = 0\n",
    "    f    or i in range(rows):\n",
    "    for j in range(cols):\n",
    "    total += matrix[i][j]\n",
    "    return total\"\"\"    \n",
    "\n",
    "\n",
    "\n",
    "\n",
    "def nested_loop_time_complexity(rows, cols):\n",
    "    return rows * cols\n",
    "\n",
    "def main():\n",
    "    rows = int(input(\"Enter the number of rows in the matrix: \"))\n",
    "    cols = int(input(\"Enter the number of columns in the matrix: \"))\n",
    "    time_complexity = nested_loop_time_complexity(rows, cols)\n",
    "    print(\"Time complexity of nested_loop_example with a\", rows, \"x\", cols, \"matrix is O(rows * cols):\", time_complexity)\n",
    "\n",
    "if __name__ == \"__main__\":\n",
    "    main()\n",
    "\n"
   ]
  },
  {
   "cell_type": "markdown",
   "id": "d0d715dd-ba0d-4957-8dc3-aa935f91d601",
   "metadata": {},
   "source": [
    "Explanation:-\n",
    "\n",
    "To analyze the time complexity of the provided nested_loop_example function, we need to understand its structure:\n",
    "\n",
    "It iterates over each element of a 2D matrix.\n",
    "It sums up all the elements.\n",
    "Let's denote:\n",
    "\n",
    "rows as the number of rows in the matrix.\n",
    "cols as the number of columns in the matrix.\n",
    "The nested loops iterate over each element of the matrix exactly once, resulting in a time complexity of O(rows * cols). Here's the Python code that calculates the time complexity:\n",
    "\n"
   ]
  },
  {
   "cell_type": "code",
   "execution_count": 7,
   "id": "d7d388ff-c16e-4a46-bf5a-2b21cfc90dfc",
   "metadata": {},
   "outputs": [
    {
     "name": "stdin",
     "output_type": "stream",
     "text": [
      "Enter the size of the array:  12\n"
     ]
    },
    {
     "name": "stdout",
     "output_type": "stream",
     "text": [
      "Time complexity of example_function with an array of size 12 is O(n): 12\n"
     ]
    }
   ],
   "source": [
    "# Problem 3.\n",
    "\n",
    "\"\"\"def example_function(arr):\n",
    "   result = 0\n",
    "   for element in arr:\n",
    "   result += element\n",
    "   return result    \"\"\"\n",
    "\n",
    "\n",
    "\n",
    "def example_function_time_complexity(n):\n",
    "    return n\n",
    "\n",
    "def main():\n",
    "    n = int(input(\"Enter the size of the array: \"))\n",
    "    time_complexity = example_function_time_complexity(n)\n",
    "    print(\"Time complexity of example_function with an array of size\", n, \"is O(n):\", time_complexity)\n",
    "\n",
    "if __name__ == \"__main__\":\n",
    "    main()\n"
   ]
  },
  {
   "cell_type": "markdown",
   "id": "95758b30-adb2-423b-8821-c331c27f7227",
   "metadata": {},
   "source": [
    "Explanation:-\n",
    "\n",
    "It iterates over each element in the input array.\n",
    "It sums up all the elements.\n",
    "Let's denote:\n",
    "\n",
    "n as the number of elements in the input array.\n",
    "Since the function iterates over each element in the array exactly once, the time complexity of the function is O(n), where n is the size of the input array.\n",
    "\n"
   ]
  },
  {
   "cell_type": "code",
   "execution_count": 8,
   "id": "c7b7b4b1-5aba-4ead-88f4-0043eb8c301e",
   "metadata": {},
   "outputs": [
    {
     "name": "stdin",
     "output_type": "stream",
     "text": [
      "Enter the size of the array:  1\n"
     ]
    },
    {
     "name": "stdout",
     "output_type": "stream",
     "text": [
      "Time complexity of longest_increasing_subsequence with an array of size 1 is O(n^2): 1\n"
     ]
    }
   ],
   "source": [
    "# Problem 4.\n",
    "\n",
    "\"\"\" def longest_increasing_subsequence(nums):\n",
    "    n = len(nums)\n",
    "    lis = [1] * n\n",
    "    for i in range(1, n):\n",
    "    for j in range(0, i):\n",
    "    if nums[i] > nums[j] and lis[i] < lis[j] + 1:\n",
    "    lis[i] = lis[j] + 1\n",
    "    return max(lis)     \"\"\"\n",
    "\n",
    "\n",
    "\n",
    "def longest_increasing_subsequence_time_complexity(n):\n",
    "    return n ** 2\n",
    "\n",
    "def main():\n",
    "    n = int(input(\"Enter the size of the array: \"))\n",
    "    time_complexity = longest_increasing_subsequence_time_complexity(n)\n",
    "    print(\"Time complexity of longest_increasing_subsequence with an array of size\", n, \"is O(n^2):\", time_complexity)\n",
    "\n",
    "if __name__ == \"__main__\":\n",
    "    main()\n"
   ]
  },
  {
   "cell_type": "markdown",
   "id": "5015262f-03dd-4b77-abae-b441c3c00771",
   "metadata": {},
   "source": [
    "Explanation:-\n",
    "\n",
    "The function iterates over each element in the input array nums.\n",
    "For each element nums[i], it compares it with all previous elements nums[j] (where j < i) to find the longest increasing subsequence ending at nums[i].\n",
    "It updates the length of the longest increasing subsequence ending at nums[i].\n",
    "Finally, it returns the maximum value in the lis list.\n",
    "Let's denote:\n",
    "\n",
    "n as the length of the input array nums.\n",
    "The nested loops iterate over all pairs of elements in the input array, resulting in a time complexity of O(n^2)."
   ]
  },
  {
   "cell_type": "code",
   "execution_count": 9,
   "id": "9e4351e1-dbfd-48a4-b740-bbacb2815507",
   "metadata": {},
   "outputs": [
    {
     "name": "stdin",
     "output_type": "stream",
     "text": [
      "Enter the size of the array:  3\n"
     ]
    },
    {
     "name": "stdout",
     "output_type": "stream",
     "text": [
      "Time complexity of mysterious_function with an array of size 3 is O(n^2): 9\n"
     ]
    }
   ],
   "source": [
    "# Problem 5.\n",
    "\n",
    "\"\"\" def mysterious_function(arr):\n",
    "    n = len(arr)\n",
    "    result = 0\n",
    "    for i in range(n):\n",
    "    for j in range(i, n):    \n",
    "    result += arr[i] * arr[j]\n",
    "    return result \"\"\"\n",
    "\n",
    "\n",
    "\n",
    "def mysterious_function_time_complexity(n):\n",
    "    return n ** 2\n",
    "\n",
    "def main():\n",
    "    n = int(input(\"Enter the size of the array: \"))\n",
    "    time_complexity = mysterious_function_time_complexity(n)\n",
    "    print(\"Time complexity of mysterious_function with an array of size\", n, \"is O(n^2):\", time_complexity)\n",
    "\n",
    "if __name__ == \"__main__\":\n",
    "    main()\n"
   ]
  },
  {
   "cell_type": "markdown",
   "id": "dc6d660d-b9eb-43cf-b669-d90a98c4ebdb",
   "metadata": {},
   "source": [
    "Explanation:-\n",
    "\n",
    "The function iterates over each element in the input array arr.\n",
    "For each element arr[i], it iterates over all elements starting from index i to the end of the array arr.\n",
    "It calculates the product of arr[i] and arr[j] for each pair of indices i and j.\n",
    "It accumulates the sum of all products.\n",
    "Let's denote:\n",
    "\n",
    "n as the length of the input array arr.\n",
    "The nested loops iterate over pairs of elements in the array. For the outer loop, it runs from 0 to n-1, and for the inner loop, it runs from i to n-1. This results in a time complexity of O(n^2).\n",
    "\n"
   ]
  },
  {
   "cell_type": "code",
   "execution_count": 10,
   "id": "a3c8f23e-9e69-4a78-8def-abf6650f48c1",
   "metadata": {},
   "outputs": [],
   "source": [
    "# RECURSION PROBLEMS!!!"
   ]
  },
  {
   "cell_type": "code",
   "execution_count": 11,
   "id": "a8e7c392-8d58-44bb-98d9-2f8ac6b03efc",
   "metadata": {},
   "outputs": [
    {
     "name": "stdout",
     "output_type": "stream",
     "text": [
      "6\n"
     ]
    }
   ],
   "source": [
    "# Problem 6 : Sum of Digits\n",
    "\n",
    "\"\"\"Write a recursive function to calculate the sum of digits of a given positive integer.\n",
    "   sum_of_digits(123) -> 6\"\"\"\n",
    "\n",
    "\n",
    "def sum_of_digits(n):\n",
    "    if n < 10:\n",
    "        return n\n",
    "    else:\n",
    "        return n % 10 + sum_of_digits(n // 10)\n",
    "\n",
    "# Example usage\n",
    "print(sum_of_digits(123))  # Output: 6\n"
   ]
  },
  {
   "cell_type": "markdown",
   "id": "42f824ba-1c1a-45b4-b685-c3bd96ea4d9e",
   "metadata": {},
   "source": [
    "Explanation:\n",
    "\n",
    "This problem requires us to calculate the sum of digits of a given positive integer recursively.\n",
    "The recursive approach works as follows:\n",
    "If the number is less than 10, return the number itself (base case).\n",
    "Otherwise, return the last digit of the number (obtained using modulo %) added to the sum of digits of the remaining part of the number (obtained using integer division //).\n"
   ]
  },
  {
   "cell_type": "code",
   "execution_count": 14,
   "id": "cc701d42-207f-4b21-a002-03e722b3ab6d",
   "metadata": {},
   "outputs": [
    {
     "name": "stdout",
     "output_type": "stream",
     "text": [
      "[0, 1, 1, 2, 3, 5]\n"
     ]
    }
   ],
   "source": [
    "# Problem 7: Fibonacci Series \n",
    "\n",
    "\"\"\"Write a recursive function to generate the first n numbers of the Fibonacci series.\n",
    "   fibonacci_series(6) -> [0, 1, 1, 2, 3, 5]\"\"\"\n",
    "\n",
    "\n",
    "\n",
    "def fibonacci_series(n):\n",
    "    if n <= 0:\n",
    "        return []\n",
    "    elif n == 1:\n",
    "        return [0]\n",
    "    elif n == 2:\n",
    "        return [0, 1]\n",
    "    else:\n",
    "        fib_series = fibonacci_series(n - 1)\n",
    "        fib_series.append(fib_series[-1] + fib_series[-2])\n",
    "        return fib_series\n",
    "\n",
    "# Example usage\n",
    "print(fibonacci_series(6))  # Output: [0, 1, 1, 2, 3, 5]\n"
   ]
  },
  {
   "cell_type": "markdown",
   "id": "a57b87f2-a546-4dcf-8268-7dd215d3fe56",
   "metadata": {},
   "source": [
    "Explanation:\n",
    "\n",
    "This problem involves generating the first n numbers of the Fibonacci series using recursion.\n",
    "The recursive approach works as follows:\n",
    "Base cases: If n is less than or equal to 1, return [0] if n is 1, or an empty list otherwise.\n",
    "Otherwise, call the function recursively to generate the previous Fibonacci numbers, and then append the sum of the last two numbers to the list.\n"
   ]
  },
  {
   "cell_type": "code",
   "execution_count": 15,
   "id": "10eab2b8-fdca-4330-901f-642ff28ba6de",
   "metadata": {},
   "outputs": [
    {
     "name": "stdout",
     "output_type": "stream",
     "text": [
      "True\n"
     ]
    }
   ],
   "source": [
    "# Problem 8 : Subset Sum\n",
    "\"\"\"Given a set of positive integers and a target sum, write a recursive function to determine if there exists a subset\n",
    "   of the integers that adds up to the target sum.\n",
    "   subset_sum([3, 34, 4, 12, 5, 2], 9) -> True\n",
    "   Solve the following problems on recursion\"\"\"\n",
    "\n",
    "\n",
    "def subset_sum(nums, target):\n",
    "    if target == 0:\n",
    "        return True\n",
    "    if not nums or target < 0:\n",
    "        return False\n",
    "    return subset_sum(nums[:-1], target - nums[-1]) or subset_sum(nums[:-1], target)\n",
    "\n",
    "# Example usage\n",
    "print(subset_sum([3, 34, 4, 12, 5, 2], 9))  # Output: True\n"
   ]
  },
  {
   "cell_type": "markdown",
   "id": "c5b3d8fa-7a33-4b54-966d-7dcd72190b3d",
   "metadata": {},
   "source": [
    "Explanation:\n",
    "\n",
    "This problem requires us to determine if there exists a subset of a given set of positive integers that adds up to a target sum.\n",
    "The recursive approach works as follows:\n",
    "Base cases: If the target sum is 0, return True (subset found), or if the list of numbers is empty or the target sum is negative, return False.\n",
    "Otherwise, we have two choices for the current number: include it in the subset or exclude it. Recursively check both cases."
   ]
  },
  {
   "cell_type": "code",
   "execution_count": 16,
   "id": "ffc7388b-844e-4a36-8456-f3f7a31cd9a0",
   "metadata": {},
   "outputs": [
    {
     "name": "stdout",
     "output_type": "stream",
     "text": [
      "True\n"
     ]
    }
   ],
   "source": [
    "# Problem 9: Word Break\n",
    "\"\"\"Given a non-empty string and a dictionary of words, write a recursive function to determine if the string can be\n",
    "   segmented into a space-separated sequence of dictionary words.\n",
    "   word_break( leetcode , [ leet , code ]) -> True\"\"\"   \n",
    "\n",
    "\n",
    "def word_break(s, wordDict):\n",
    "    if not s:\n",
    "        return True\n",
    "    for word in wordDict:\n",
    "        if s.startswith(word) and word_break(s[len(word):], wordDict):\n",
    "            return True\n",
    "    return False\n",
    "\n",
    "# Example usage\n",
    "print(word_break(\"leetcode\", [\"leet\", \"code\"]))  # Output: True\n"
   ]
  },
  {
   "cell_type": "markdown",
   "id": "c5413e17-650d-48d7-9848-7c0f6a35d155",
   "metadata": {},
   "source": [
    "Explanation:\n",
    "\n",
    "This problem involves determining if a string can be segmented into a space-separated sequence of words from a given dictionary.\n",
    "The recursive approach works as follows:\n",
    "Base case: If the input string is empty, return True (all words segmented).\n",
    "For each word in the dictionary, check if it matches the beginning of the input string. If it does, recursively check if the remaining part of the string can be segmented using the same dictionary.\n"
   ]
  },
  {
   "cell_type": "code",
   "execution_count": 17,
   "id": "8ef5d299-c169-40a5-a6dd-d2cbdf594c54",
   "metadata": {},
   "outputs": [
    {
     "name": "stdout",
     "output_type": "stream",
     "text": [
      "[['..Q.', 'Q...', '...Q', '.Q..'], ['.Q..', '...Q', 'Q...', '..Q.']]\n"
     ]
    }
   ],
   "source": [
    "# Problem 10 : N-Queens\n",
    "\n",
    "\n",
    "\"\"\"Implement a recursive function to solve the N Queens problem, where you have to place N queens on an N×N\n",
    "   chessboard in such a way that no two queens threaten each other.\n",
    "   n_queens(4)\n",
    "   [\n",
    "   [\".Q..\",\n",
    "   \"...Q\",\n",
    "   \"Q...\",\n",
    "   \"..Q.\"],\n",
    "   [\"..Q.\",\n",
    "   \"Q...\",\n",
    "   \"...Q\",\n",
    "   \".Q..\"]\n",
    "   ]  \"\"\"\n",
    "\n",
    "\n",
    "\n",
    "def is_safe(board, row, col, n):\n",
    "    for i in range(col):\n",
    "        if board[row][i] == 1:\n",
    "            return False\n",
    "    for i, j in zip(range(row, -1, -1), range(col, -1, -1)):\n",
    "        if board[i][j] == 1:\n",
    "            return False\n",
    "    for i, j in zip(range(row, n, 1), range(col, -1, -1)):\n",
    "        if board[i][j] == 1:\n",
    "            return False\n",
    "    return True\n",
    "\n",
    "def solve_n_queens(n):\n",
    "    board = [[0] * n for _ in range(n)]\n",
    "    solutions = []\n",
    "\n",
    "    def n_queens_helper(col):\n",
    "        if col >= n:\n",
    "            solutions.append([\"\".join([\"Q\" if c == 1 else \".\" for c in row]) for row in board])\n",
    "            return\n",
    "        for i in range(n):\n",
    "            if is_safe(board, i, col, n):\n",
    "                board[i][col] = 1\n",
    "                n_queens_helper(col + 1)\n",
    "                board[i][col] = 0\n",
    "\n",
    "    n_queens_helper(0)\n",
    "    return solutions\n",
    "\n",
    "# Example usage\n",
    "print(solve_n_queens(4))\n"
   ]
  },
  {
   "cell_type": "markdown",
   "id": "d4d55b1d-b215-45a8-a3e1-e50d695e7eb5",
   "metadata": {},
   "source": [
    "Explanation:\n",
    "\n",
    "This problem requires placing N queens on an N×N chessboard in such a way that no two queens threaten each other.\n",
    "The recursive approach works as follows:\n",
    "Define a function is_safe to check if it's safe to place a queen at a particular position on the board.\n",
    "Define a recursive helper function n_queens_helper to try placing queens column by column recursively.\n",
    "Base case: If all columns are filled, add the current board configuration to the list of solutions.\n",
    "For each row in the current column, check if it's safe to place a queen there. If so, place the queen and recursively call the function to place queens in the next column.\n",
    "After trying all possible placements, backtrack and remove the placed queen to explore other possibilities."
   ]
  },
  {
   "cell_type": "code",
   "execution_count": null,
   "id": "f97e63cd-f63f-43b4-891a-e983d4c60d25",
   "metadata": {},
   "outputs": [],
   "source": []
  }
 ],
 "metadata": {
  "kernelspec": {
   "display_name": "Python 3 (ipykernel)",
   "language": "python",
   "name": "python3"
  },
  "language_info": {
   "codemirror_mode": {
    "name": "ipython",
    "version": 3
   },
   "file_extension": ".py",
   "mimetype": "text/x-python",
   "name": "python",
   "nbconvert_exporter": "python",
   "pygments_lexer": "ipython3",
   "version": "3.10.12"
  }
 },
 "nbformat": 4,
 "nbformat_minor": 5
}
